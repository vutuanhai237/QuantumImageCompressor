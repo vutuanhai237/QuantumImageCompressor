{
 "cells": [
  {
   "cell_type": "code",
   "execution_count": 3,
   "metadata": {},
   "outputs": [
    {
     "name": "stderr",
     "output_type": "stream",
     "text": [
      "\u001b[36m[BQ-PYTHON-SDK]\u001b[0m[\u001b[33mWARNING\u001b[0m] - Beta version 0.9.3b1 of BlueQubit Python SDK is being used.\u001b[0m\n"
     ]
    },
    {
     "name": "stdout",
     "output_type": "stream",
     "text": [
      "\u001b[36m[BQ-PYTHON-SDK]\u001b[0m[\u001b[32mINFO\u001b[0m] - Submitted: Job ID: k9IJJK054ztDUbuV, device: cpu, run status: COMPLETED, created on: 2025-02-04 05:00:23 UTC, cost: $0.00, run time: 9 ms, queue time: 17 ms, num qubits: 14\u001b[0m\n",
      "0.0292968712747097\n"
     ]
    }
   ],
   "source": [
    "import bluequbit\n",
    "from bluequbit.library import multi_adder\n",
    "from qiskit import QuantumCircuit\n",
    "from math import ceil, log2\n",
    "\n",
    "m = 4 # number of registers\n",
    "n = 3 # number of qubits in each register\n",
    "\n",
    "num_sum_qubits = int(ceil(log2(m * (2**n - 1) + 0.5)))  # number of qubits required to store the sum\n",
    "num_qubits = m * n + num_sum_qubits - n\n",
    "\n",
    "qc_qiskit = QuantumCircuit(num_qubits, num_sum_qubits)\n",
    "qc_qiskit.h(range(m * n))  # Now each register is in superposition of 0, 1, 2, 3, 4, 5, 6, 7\n",
    "qc_qiskit.compose(multi_adder(m, n), inplace=True)\n",
    "qc_qiskit.measure(range(num_qubits-num_sum_qubits, num_qubits), range(num_sum_qubits))\n",
    "\n",
    "key_path = \"key.txt\"\n",
    "with open(key_path, \"r\") as key_file:\n",
    "\tkey = key_file.read().strip()\n",
    "bq = bluequbit.init(key)\n",
    "result = bq.run(qc_qiskit, device='cpu')\n",
    "print(result.get_counts()['00111'])"
   ]
  }
 ],
 "metadata": {
  "kernelspec": {
   "display_name": "Python 3",
   "language": "python",
   "name": "python3"
  },
  "language_info": {
   "codemirror_mode": {
    "name": "ipython",
    "version": 3
   },
   "file_extension": ".py",
   "mimetype": "text/x-python",
   "name": "python",
   "nbconvert_exporter": "python",
   "pygments_lexer": "ipython3",
   "version": "3.10.11"
  }
 },
 "nbformat": 4,
 "nbformat_minor": 2
}
