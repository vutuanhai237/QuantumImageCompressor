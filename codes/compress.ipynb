{
 "cells": [
  {
   "cell_type": "code",
   "execution_count": 1,
   "metadata": {},
   "outputs": [],
   "source": [
    "import sys\n",
    "sys.path.insert(0, '..')\n",
    "from qoop.compilation.qsp import QuantumStatePreparation\n",
    "from qoop.core import state, ansatz\n",
    "from qoop.compilation import compress\n",
    "import numpy as np\n",
    "import matplotlib.pyplot as plt\n",
    "import cv2\n",
    "%load_ext autoreload\n",
    "%autoreload 2"
   ]
  },
  {
   "cell_type": "code",
   "execution_count": 23,
   "metadata": {},
   "outputs": [
    {
     "data": {
      "text/plain": [
       "True"
      ]
     },
     "execution_count": 23,
     "metadata": {},
     "output_type": "execute_result"
    }
   ],
   "source": [
    "# read lenna and resize at 28 x 28 and save it\n",
    "img = cv2.imread('../images/lenna.png', cv2.IMREAD_GRAYSCALE)\n",
    "img = cv2.resize(img, (8, 8))\n",
    "cv2.imwrite('../images/lenna_8x8.png', img)"
   ]
  },
  {
   "cell_type": "code",
   "execution_count": 19,
   "metadata": {},
   "outputs": [
    {
     "data": {
      "image/png": "[encoded data removed]",
      "text/plain": [
       "<Figure size 705.552x367.889 with 1 Axes>"
      ]
     },
     "execution_count": 19,
     "metadata": {},
     "output_type": "execute_result"
    }
   ],
   "source": [
    "ansatz.g2gn(4, 1).draw('mpl')"
   ]
  },
  {
   "cell_type": "code",
   "execution_count": 7,
   "metadata": {},
   "outputs": [],
   "source": [
    "# Read image lenna.png by cv2 and convert it to grayscale (matrix of 0 - 1 values\n",
    "# where 0 is black and 1 is white)\n",
    "img = cv2.imread('../images/lenna_8x8.png', cv2.IMREAD_GRAYSCALE) / 255\n",
    "def compress_img(img, k):\n",
    "    img = np.array(img)\n",
    "    num_qubits = int(np.log2(k**2))\n",
    "    blocks, scales = compress.divide_image(img, k)\n",
    "    params = []\n",
    "    for i in range(0, len(blocks)):\n",
    "        num_layers = 2\n",
    "        qsp = QuantumStatePreparation(\n",
    "            u=ansatz.g2gn(num_qubits, num_layers),\n",
    "            target_state=state.specific(blocks[i]).inverse(),\n",
    "        ).fit()\n",
    "        params.append(qsp.compiler.thetas)\n",
    "    return params, scales\n",
    "\n",
    "def decompress_img(params, scales, k):\n",
    "    import qiskit.quantum_info as qi\n",
    "    num_qubits = int(np.log2(k**2))\n",
    "    blocks = []\n",
    "    num_layers = 2\n",
    "    for i in range(0, len(params)):\n",
    "        qc1 = ansatz.g2gn(num_qubits, num_layers).assign_parameters(params[i])\n",
    "        block = (qi.Statevector.from_instruction(qc1).data) * scales[i]\n",
    "        blocks.append(block)\n",
    "    blocks = np.array(blocks)\n",
    "    blocks = blocks.reshape(int(img.shape[0]/k), int(img.shape[1]/k), -1)\n",
    "    print(blocks.shape)\n",
    "    reconstructed_img = np.zeros((img.shape[0], img.shape[1]))\n",
    "    for i in range(0, int(img.shape[0]/k)):\n",
    "        for j in range(0, int(img.shape[1]/k)):\n",
    "            reconstructed_img[i*k:(i+1)*k, j*k:(j+1)*k] = blocks[i, j].reshape(k, k)\n",
    "    return (-reconstructed_img)"
   ]
  },
  {
   "cell_type": "code",
   "execution_count": 5,
   "metadata": {},
   "outputs": [],
   "source": [
    "params, scales = compress_img(img, 2)"
   ]
  },
  {
   "cell_type": "code",
   "execution_count": 8,
   "metadata": {},
   "outputs": [
    {
     "name": "stdout",
     "output_type": "stream",
     "text": [
      "(4, 4, 4)\n"
     ]
    },
    {
     "name": "stderr",
     "output_type": "stream",
     "text": [
      "/var/folders/bw/2cm4rnhn0djgg95n4py1pysc0000gp/T/ipykernel_19589/170051002.py:33: ComplexWarning: Casting complex values to real discards the imaginary part\n",
      "  reconstructed_img[i*k:(i+1)*k, j*k:(j+1)*k] = blocks[i, j].reshape(k, k)\n"
     ]
    }
   ],
   "source": [
    "image = decompress_img(params, scales, 2)"
   ]
  },
  {
   "cell_type": "code",
   "execution_count": 38,
   "metadata": {},
   "outputs": [
    {
     "name": "stdout",
     "output_type": "stream",
     "text": [
      "[[0.69411765 0.4627451  0.56078431 0.54117647 0.53333333 0.65098039\n",
      "  0.57647059 0.43529412]\n",
      " [0.62352941 0.45882353 0.50588235 0.62352941 0.81176471 0.63137255\n",
      "  0.61568627 0.25882353]\n",
      " [0.63137255 0.44705882 0.48235294 0.65882353 0.69803922 0.76078431\n",
      "  0.20784314 0.64313725]\n",
      " [0.60392157 0.45098039 0.52941176 0.23921569 0.69411765 0.21960784\n",
      "  0.25882353 0.63137255]\n",
      " [0.58039216 0.4627451  0.51764706 0.37647059 0.57647059 0.28235294\n",
      "  0.63137255 0.69803922]\n",
      " [0.61568627 0.20784314 0.83921569 0.34901961 0.48235294 0.32156863\n",
      "  0.58039216 0.81960784]\n",
      " [0.4627451  0.21960784 0.45490196 0.31372549 0.63137255 0.5372549\n",
      "  0.52941176 0.41960784]\n",
      " [0.4        0.2745098  0.53333333 0.39607843 0.58823529 0.80392157\n",
      "  0.21960784 0.34117647]]\n"
     ]
    }
   ],
   "source": [
    "img = cv2.imread('../images/lenna_8x8.png', cv2.IMREAD_GRAYSCALE) / 255\n",
    "img = np.array(img)\n",
    "print(img)"
   ]
  },
  {
   "cell_type": "code",
   "execution_count": 9,
   "metadata": {},
   "outputs": [
    {
     "name": "stdout",
     "output_type": "stream",
     "text": [
      "0.9999999997584612\n"
     ]
    }
   ],
   "source": [
    "# calculate SSIM between original image and reconstructed image\n",
    "import skimage.metrics as metrics\n",
    "ssim = metrics.structural_similarity(img, image)\n",
    "print(ssim)"
   ]
  },
  {
   "cell_type": "code",
   "execution_count": 8,
   "metadata": {},
   "outputs": [],
   "source": [
    "num_qubits = 3\n",
    "num_layers = 2\n",
    "qsp = QuantumStatePreparation(\n",
    "    u=ansatz.g2gn(num_qubits, num_layers),\n",
    "    target_state=state.haar(3).inverse(),\n",
    ").fit()"
   ]
  }
 ],
 "metadata": {
  "kernelspec": {
   "display_name": "Python 3",
   "language": "python",
   "name": "python3"
  },
  "language_info": {
   "codemirror_mode": {
    "name": "ipython",
    "version": 3
   },
   "file_extension": ".py",
   "mimetype": "text/x-python",
   "name": "python",
   "nbconvert_exporter": "python",
   "pygments_lexer": "ipython3",
   "version": "3.10.9"
  }
 },
 "nbformat": 4,
 "nbformat_minor": 2
}
